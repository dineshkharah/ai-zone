{
  "nbformat": 4,
  "nbformat_minor": 0,
  "metadata": {
    "colab": {
      "provenance": [],
      "toc_visible": true
    },
    "kernelspec": {
      "name": "python3",
      "display_name": "Python 3"
    },
    "language_info": {
      "name": "python"
    }
  },
  "cells": [
    {
      "cell_type": "code",
      "execution_count": null,
      "metadata": {
        "id": "CsdBmw7bdwTH"
      },
      "outputs": [],
      "source": [
        "import pandas as pd\n",
        "import numpy as np\n",
        "from sklearn.feature_extraction.text import TfidfVectorizer\n",
        "from sklearn.metrics.pairwise import cosine_similarity\n",
        "from nltk.corpus import stopwords\n",
        "from nltk.tokenize import word_tokenize\n",
        "from nltk.corpus import wordnet\n",
        "import re\n",
        "import string"
      ]
    },
    {
      "cell_type": "code",
      "source": [
        "import nltk\n",
        "nltk.download('stopwords')\n",
        "nltk.download('punkt_tab')\n",
        "nltk.download('wordnet')"
      ],
      "metadata": {
        "colab": {
          "base_uri": "https://localhost:8080/"
        },
        "id": "3tiTphRxfKIs",
        "outputId": "848ab53b-e14d-4346-d923-4ea8ade24029"
      },
      "execution_count": null,
      "outputs": [
        {
          "output_type": "stream",
          "name": "stderr",
          "text": [
            "[nltk_data] Downloading package stopwords to /root/nltk_data...\n",
            "[nltk_data]   Unzipping corpora/stopwords.zip.\n",
            "[nltk_data] Downloading package punkt_tab to /root/nltk_data...\n",
            "[nltk_data]   Unzipping tokenizers/punkt_tab.zip.\n",
            "[nltk_data] Downloading package wordnet to /root/nltk_data...\n"
          ]
        },
        {
          "output_type": "execute_result",
          "data": {
            "text/plain": [
              "True"
            ]
          },
          "metadata": {},
          "execution_count": 1
        }
      ]
    },
    {
      "cell_type": "code",
      "source": [
        "dataset_path = '/content/all_ai_tool.csv'\n",
        "data = pd.read_csv(dataset_path)"
      ],
      "metadata": {
        "id": "_hjEI5F-e0et"
      },
      "execution_count": null,
      "outputs": []
    },
    {
      "cell_type": "code",
      "source": [
        "'''data['Useable For'] = data['Useable For'].fillna('')\n",
        "data['Major Category'] = data['Major Category'].fillna('')\n",
        "\n",
        "data['combined_features'] = data['Useable For'] + ' ' + data['Major Category']\n",
        "'''"
      ],
      "metadata": {
        "id": "lFkiAGt_e7WU",
        "colab": {
          "base_uri": "https://localhost:8080/",
          "height": 54
        },
        "outputId": "d3044563-6193-47fa-fe45-df43a07c4e8f"
      },
      "execution_count": null,
      "outputs": [
        {
          "output_type": "execute_result",
          "data": {
            "text/plain": [
              "\"data['Useable For'] = data['Useable For'].fillna('')\\ndata['Major Category'] = data['Major Category'].fillna('')\\n\\ndata['combined_features'] = data['Useable For'] + ' ' + data['Major Category']\\n\""
            ],
            "application/vnd.google.colaboratory.intrinsic+json": {
              "type": "string"
            }
          },
          "metadata": {},
          "execution_count": 2
        }
      ]
    },
    {
      "cell_type": "code",
      "source": [
        "def clean_text(text):\n",
        "  if isinstance(text, str):\n",
        "    text = re.sub(r'[^a-zA-Z\\s]', '', text)\n",
        "    text = text.lower().strip()\n",
        "    return text\n",
        "  else:\n",
        "    return ''\n",
        "\n",
        "\n",
        "data['Useable For'] = data['Useable For'].apply(clean_text)\n",
        "data['Major Category'] = data['Major Category'].apply(clean_text)\n",
        "data['combined_features'] = data['Useable For'] + ' ' + data['Major Category']"
      ],
      "metadata": {
        "id": "c7fTY1uugH9E",
        "colab": {
          "base_uri": "https://localhost:8080/",
          "height": 219
        },
        "outputId": "35711b71-f6bd-4590-9f31-00f5d8538a22"
      },
      "execution_count": null,
      "outputs": [
        {
          "output_type": "error",
          "ename": "NameError",
          "evalue": "name 'data' is not defined",
          "traceback": [
            "\u001b[0;31m---------------------------------------------------------------------------\u001b[0m",
            "\u001b[0;31mNameError\u001b[0m                                 Traceback (most recent call last)",
            "\u001b[0;32m<ipython-input-3-226c5c8949e3>\u001b[0m in \u001b[0;36m<cell line: 0>\u001b[0;34m()\u001b[0m\n\u001b[1;32m      8\u001b[0m \u001b[0;34m\u001b[0m\u001b[0m\n\u001b[1;32m      9\u001b[0m \u001b[0;34m\u001b[0m\u001b[0m\n\u001b[0;32m---> 10\u001b[0;31m \u001b[0mdata\u001b[0m\u001b[0;34m[\u001b[0m\u001b[0;34m'Useable For'\u001b[0m\u001b[0;34m]\u001b[0m \u001b[0;34m=\u001b[0m \u001b[0mdata\u001b[0m\u001b[0;34m[\u001b[0m\u001b[0;34m'Useable For'\u001b[0m\u001b[0;34m]\u001b[0m\u001b[0;34m.\u001b[0m\u001b[0mapply\u001b[0m\u001b[0;34m(\u001b[0m\u001b[0mclean_text\u001b[0m\u001b[0;34m)\u001b[0m\u001b[0;34m\u001b[0m\u001b[0;34m\u001b[0m\u001b[0m\n\u001b[0m\u001b[1;32m     11\u001b[0m \u001b[0mdata\u001b[0m\u001b[0;34m[\u001b[0m\u001b[0;34m'Major Category'\u001b[0m\u001b[0;34m]\u001b[0m \u001b[0;34m=\u001b[0m \u001b[0mdata\u001b[0m\u001b[0;34m[\u001b[0m\u001b[0;34m'Major Category'\u001b[0m\u001b[0;34m]\u001b[0m\u001b[0;34m.\u001b[0m\u001b[0mapply\u001b[0m\u001b[0;34m(\u001b[0m\u001b[0mclean_text\u001b[0m\u001b[0;34m)\u001b[0m\u001b[0;34m\u001b[0m\u001b[0;34m\u001b[0m\u001b[0m\n\u001b[1;32m     12\u001b[0m \u001b[0mdata\u001b[0m\u001b[0;34m[\u001b[0m\u001b[0;34m'combined_features'\u001b[0m\u001b[0;34m]\u001b[0m \u001b[0;34m=\u001b[0m \u001b[0mdata\u001b[0m\u001b[0;34m[\u001b[0m\u001b[0;34m'Useable For'\u001b[0m\u001b[0;34m]\u001b[0m \u001b[0;34m+\u001b[0m \u001b[0;34m' '\u001b[0m \u001b[0;34m+\u001b[0m \u001b[0mdata\u001b[0m\u001b[0;34m[\u001b[0m\u001b[0;34m'Major Category'\u001b[0m\u001b[0;34m]\u001b[0m\u001b[0;34m\u001b[0m\u001b[0;34m\u001b[0m\u001b[0m\n",
            "\u001b[0;31mNameError\u001b[0m: name 'data' is not defined"
          ]
        }
      ]
    },
    {
      "cell_type": "code",
      "source": [
        "data"
      ],
      "metadata": {
        "id": "swnraBUdgjly",
        "colab": {
          "base_uri": "https://localhost:8080/",
          "height": 615
        },
        "outputId": "9fce7e5c-3e72-4da7-a944-e784486b125b"
      },
      "execution_count": null,
      "outputs": [
        {
          "output_type": "execute_result",
          "data": {
            "text/plain": [
              "        AI Tool Name                                        Description  \\\n",
              "0             Farm3D  Learning Articulated 3D Animals by Distilling ...   \n",
              "1      Mailbutler Ai  AI-powered Smart Assistant for Outlook, Gmail ...   \n",
              "2          Maverick      Send customers personalized videos at scale.     \n",
              "3               0Xai      Stable Diffusion Prompt And Images Generator    \n",
              "4              10Web  AI-powered WordPress platform for automated we...   \n",
              "...              ...                                                ...   \n",
              "4964         Zoom Iq  Capture meaningful and actionable insights fro...   \n",
              "4965    Zoomscape Ai  ZoomScape AI is an AI-powered tool that enable...   \n",
              "4966         Zust Qr  Enables users to craft artistic QR codes by in...   \n",
              "4967            Zuva          Contract analysis and insight generation.   \n",
              "4968            Zyng  Generation of promotional images without desig...   \n",
              "\n",
              "          Free/Paid/Other                     Useable For    Charges Review  \\\n",
              "0                    Free               experiments     d        NaN    NaN   \n",
              "1                Freemium                 email assistant  $ 4.95/mo      1   \n",
              "2                    Paid     ecommerce     audio editing   $ 100/mo    NaN   \n",
              "3                    Free     image generator     prompts        NaN    NaN   \n",
              "4                Freemium                   lowcodenocode        NaN    NaN   \n",
              "...                   ...                             ...        ...    ...   \n",
              "4964  Contact for Pricing  summarizer     email assistant        NaN      2   \n",
              "4965           Free Trial                   presentations        $5     NaN   \n",
              "4966                 Free                 image generator        NaN    NaN   \n",
              "4967           Free Trial                 legal assistant    $ 50/mo      1   \n",
              "4968                 Free   ecommerce     image generator        NaN    NaN   \n",
              "\n",
              "                                              Tool Link Major Category  \\\n",
              "0     https://farm3d.github.io/?utm_source=futureped...          other   \n",
              "1     https://www.mailbutler.io/smart-assistant/?utm...           text   \n",
              "2     https://www.trymaverick.com/?utm_source=future...          audio   \n",
              "3     https://0xai.quest?utm_source=futurepedia&utm_...          image   \n",
              "4     https://10web.io/?utm_source=futurepedia&utm_m...           code   \n",
              "...                                                 ...            ...   \n",
              "4964  https://blog.zoom.us/zoom-iq-smart-companion/?...           text   \n",
              "4965  https://zoomscape.ai/?utm_source=futurepedia&u...       business   \n",
              "4966  https://qr.zust.ai/?utm_source=futurepedia&utm...          image   \n",
              "4967  https://zuva.ai/widget/try-it/?utm_source=futu...       business   \n",
              "4968  https://www.zyngai.com/?utm_source=futurepedia...          image   \n",
              "\n",
              "                        combined_features  \n",
              "0                 experiments     d other  \n",
              "1                    email assistant text  \n",
              "2       ecommerce     audio editing audio  \n",
              "3       image generator     prompts image  \n",
              "4                      lowcodenocode code  \n",
              "...                                   ...  \n",
              "4964  summarizer     email assistant text  \n",
              "4965               presentations business  \n",
              "4966                image generator image  \n",
              "4967             legal assistant business  \n",
              "4968  ecommerce     image generator image  \n",
              "\n",
              "[4969 rows x 9 columns]"
            ],
            "text/html": [
              "\n",
              "  <div id=\"df-21013015-2265-4ff4-a1fe-0ff5a4ed9023\" class=\"colab-df-container\">\n",
              "    <div>\n",
              "<style scoped>\n",
              "    .dataframe tbody tr th:only-of-type {\n",
              "        vertical-align: middle;\n",
              "    }\n",
              "\n",
              "    .dataframe tbody tr th {\n",
              "        vertical-align: top;\n",
              "    }\n",
              "\n",
              "    .dataframe thead th {\n",
              "        text-align: right;\n",
              "    }\n",
              "</style>\n",
              "<table border=\"1\" class=\"dataframe\">\n",
              "  <thead>\n",
              "    <tr style=\"text-align: right;\">\n",
              "      <th></th>\n",
              "      <th>AI Tool Name</th>\n",
              "      <th>Description</th>\n",
              "      <th>Free/Paid/Other</th>\n",
              "      <th>Useable For</th>\n",
              "      <th>Charges</th>\n",
              "      <th>Review</th>\n",
              "      <th>Tool Link</th>\n",
              "      <th>Major Category</th>\n",
              "      <th>combined_features</th>\n",
              "    </tr>\n",
              "  </thead>\n",
              "  <tbody>\n",
              "    <tr>\n",
              "      <th>0</th>\n",
              "      <td>Farm3D</td>\n",
              "      <td>Learning Articulated 3D Animals by Distilling ...</td>\n",
              "      <td>Free</td>\n",
              "      <td>experiments     d</td>\n",
              "      <td>NaN</td>\n",
              "      <td>NaN</td>\n",
              "      <td>https://farm3d.github.io/?utm_source=futureped...</td>\n",
              "      <td>other</td>\n",
              "      <td>experiments     d other</td>\n",
              "    </tr>\n",
              "    <tr>\n",
              "      <th>1</th>\n",
              "      <td>Mailbutler Ai</td>\n",
              "      <td>AI-powered Smart Assistant for Outlook, Gmail ...</td>\n",
              "      <td>Freemium</td>\n",
              "      <td>email assistant</td>\n",
              "      <td>$ 4.95/mo</td>\n",
              "      <td>1</td>\n",
              "      <td>https://www.mailbutler.io/smart-assistant/?utm...</td>\n",
              "      <td>text</td>\n",
              "      <td>email assistant text</td>\n",
              "    </tr>\n",
              "    <tr>\n",
              "      <th>2</th>\n",
              "      <td>Maverick</td>\n",
              "      <td>Send customers personalized videos at scale.</td>\n",
              "      <td>Paid</td>\n",
              "      <td>ecommerce     audio editing</td>\n",
              "      <td>$ 100/mo</td>\n",
              "      <td>NaN</td>\n",
              "      <td>https://www.trymaverick.com/?utm_source=future...</td>\n",
              "      <td>audio</td>\n",
              "      <td>ecommerce     audio editing audio</td>\n",
              "    </tr>\n",
              "    <tr>\n",
              "      <th>3</th>\n",
              "      <td>0Xai</td>\n",
              "      <td>Stable Diffusion Prompt And Images Generator</td>\n",
              "      <td>Free</td>\n",
              "      <td>image generator     prompts</td>\n",
              "      <td>NaN</td>\n",
              "      <td>NaN</td>\n",
              "      <td>https://0xai.quest?utm_source=futurepedia&amp;utm_...</td>\n",
              "      <td>image</td>\n",
              "      <td>image generator     prompts image</td>\n",
              "    </tr>\n",
              "    <tr>\n",
              "      <th>4</th>\n",
              "      <td>10Web</td>\n",
              "      <td>AI-powered WordPress platform for automated we...</td>\n",
              "      <td>Freemium</td>\n",
              "      <td>lowcodenocode</td>\n",
              "      <td>NaN</td>\n",
              "      <td>NaN</td>\n",
              "      <td>https://10web.io/?utm_source=futurepedia&amp;utm_m...</td>\n",
              "      <td>code</td>\n",
              "      <td>lowcodenocode code</td>\n",
              "    </tr>\n",
              "    <tr>\n",
              "      <th>...</th>\n",
              "      <td>...</td>\n",
              "      <td>...</td>\n",
              "      <td>...</td>\n",
              "      <td>...</td>\n",
              "      <td>...</td>\n",
              "      <td>...</td>\n",
              "      <td>...</td>\n",
              "      <td>...</td>\n",
              "      <td>...</td>\n",
              "    </tr>\n",
              "    <tr>\n",
              "      <th>4964</th>\n",
              "      <td>Zoom Iq</td>\n",
              "      <td>Capture meaningful and actionable insights fro...</td>\n",
              "      <td>Contact for Pricing</td>\n",
              "      <td>summarizer     email assistant</td>\n",
              "      <td>NaN</td>\n",
              "      <td>2</td>\n",
              "      <td>https://blog.zoom.us/zoom-iq-smart-companion/?...</td>\n",
              "      <td>text</td>\n",
              "      <td>summarizer     email assistant text</td>\n",
              "    </tr>\n",
              "    <tr>\n",
              "      <th>4965</th>\n",
              "      <td>Zoomscape Ai</td>\n",
              "      <td>ZoomScape AI is an AI-powered tool that enable...</td>\n",
              "      <td>Free Trial</td>\n",
              "      <td>presentations</td>\n",
              "      <td>$5</td>\n",
              "      <td>NaN</td>\n",
              "      <td>https://zoomscape.ai/?utm_source=futurepedia&amp;u...</td>\n",
              "      <td>business</td>\n",
              "      <td>presentations business</td>\n",
              "    </tr>\n",
              "    <tr>\n",
              "      <th>4966</th>\n",
              "      <td>Zust Qr</td>\n",
              "      <td>Enables users to craft artistic QR codes by in...</td>\n",
              "      <td>Free</td>\n",
              "      <td>image generator</td>\n",
              "      <td>NaN</td>\n",
              "      <td>NaN</td>\n",
              "      <td>https://qr.zust.ai/?utm_source=futurepedia&amp;utm...</td>\n",
              "      <td>image</td>\n",
              "      <td>image generator image</td>\n",
              "    </tr>\n",
              "    <tr>\n",
              "      <th>4967</th>\n",
              "      <td>Zuva</td>\n",
              "      <td>Contract analysis and insight generation.</td>\n",
              "      <td>Free Trial</td>\n",
              "      <td>legal assistant</td>\n",
              "      <td>$ 50/mo</td>\n",
              "      <td>1</td>\n",
              "      <td>https://zuva.ai/widget/try-it/?utm_source=futu...</td>\n",
              "      <td>business</td>\n",
              "      <td>legal assistant business</td>\n",
              "    </tr>\n",
              "    <tr>\n",
              "      <th>4968</th>\n",
              "      <td>Zyng</td>\n",
              "      <td>Generation of promotional images without desig...</td>\n",
              "      <td>Free</td>\n",
              "      <td>ecommerce     image generator</td>\n",
              "      <td>NaN</td>\n",
              "      <td>NaN</td>\n",
              "      <td>https://www.zyngai.com/?utm_source=futurepedia...</td>\n",
              "      <td>image</td>\n",
              "      <td>ecommerce     image generator image</td>\n",
              "    </tr>\n",
              "  </tbody>\n",
              "</table>\n",
              "<p>4969 rows × 9 columns</p>\n",
              "</div>\n",
              "    <div class=\"colab-df-buttons\">\n",
              "\n",
              "  <div class=\"colab-df-container\">\n",
              "    <button class=\"colab-df-convert\" onclick=\"convertToInteractive('df-21013015-2265-4ff4-a1fe-0ff5a4ed9023')\"\n",
              "            title=\"Convert this dataframe to an interactive table.\"\n",
              "            style=\"display:none;\">\n",
              "\n",
              "  <svg xmlns=\"http://www.w3.org/2000/svg\" height=\"24px\" viewBox=\"0 -960 960 960\">\n",
              "    <path d=\"M120-120v-720h720v720H120Zm60-500h600v-160H180v160Zm220 220h160v-160H400v160Zm0 220h160v-160H400v160ZM180-400h160v-160H180v160Zm440 0h160v-160H620v160ZM180-180h160v-160H180v160Zm440 0h160v-160H620v160Z\"/>\n",
              "  </svg>\n",
              "    </button>\n",
              "\n",
              "  <style>\n",
              "    .colab-df-container {\n",
              "      display:flex;\n",
              "      gap: 12px;\n",
              "    }\n",
              "\n",
              "    .colab-df-convert {\n",
              "      background-color: #E8F0FE;\n",
              "      border: none;\n",
              "      border-radius: 50%;\n",
              "      cursor: pointer;\n",
              "      display: none;\n",
              "      fill: #1967D2;\n",
              "      height: 32px;\n",
              "      padding: 0 0 0 0;\n",
              "      width: 32px;\n",
              "    }\n",
              "\n",
              "    .colab-df-convert:hover {\n",
              "      background-color: #E2EBFA;\n",
              "      box-shadow: 0px 1px 2px rgba(60, 64, 67, 0.3), 0px 1px 3px 1px rgba(60, 64, 67, 0.15);\n",
              "      fill: #174EA6;\n",
              "    }\n",
              "\n",
              "    .colab-df-buttons div {\n",
              "      margin-bottom: 4px;\n",
              "    }\n",
              "\n",
              "    [theme=dark] .colab-df-convert {\n",
              "      background-color: #3B4455;\n",
              "      fill: #D2E3FC;\n",
              "    }\n",
              "\n",
              "    [theme=dark] .colab-df-convert:hover {\n",
              "      background-color: #434B5C;\n",
              "      box-shadow: 0px 1px 3px 1px rgba(0, 0, 0, 0.15);\n",
              "      filter: drop-shadow(0px 1px 2px rgba(0, 0, 0, 0.3));\n",
              "      fill: #FFFFFF;\n",
              "    }\n",
              "  </style>\n",
              "\n",
              "    <script>\n",
              "      const buttonEl =\n",
              "        document.querySelector('#df-21013015-2265-4ff4-a1fe-0ff5a4ed9023 button.colab-df-convert');\n",
              "      buttonEl.style.display =\n",
              "        google.colab.kernel.accessAllowed ? 'block' : 'none';\n",
              "\n",
              "      async function convertToInteractive(key) {\n",
              "        const element = document.querySelector('#df-21013015-2265-4ff4-a1fe-0ff5a4ed9023');\n",
              "        const dataTable =\n",
              "          await google.colab.kernel.invokeFunction('convertToInteractive',\n",
              "                                                    [key], {});\n",
              "        if (!dataTable) return;\n",
              "\n",
              "        const docLinkHtml = 'Like what you see? Visit the ' +\n",
              "          '<a target=\"_blank\" href=https://colab.research.google.com/notebooks/data_table.ipynb>data table notebook</a>'\n",
              "          + ' to learn more about interactive tables.';\n",
              "        element.innerHTML = '';\n",
              "        dataTable['output_type'] = 'display_data';\n",
              "        await google.colab.output.renderOutput(dataTable, element);\n",
              "        const docLink = document.createElement('div');\n",
              "        docLink.innerHTML = docLinkHtml;\n",
              "        element.appendChild(docLink);\n",
              "      }\n",
              "    </script>\n",
              "  </div>\n",
              "\n",
              "\n",
              "<div id=\"df-b7f5d232-efaa-4308-a8b2-934300d706a9\">\n",
              "  <button class=\"colab-df-quickchart\" onclick=\"quickchart('df-b7f5d232-efaa-4308-a8b2-934300d706a9')\"\n",
              "            title=\"Suggest charts\"\n",
              "            style=\"display:none;\">\n",
              "\n",
              "<svg xmlns=\"http://www.w3.org/2000/svg\" height=\"24px\"viewBox=\"0 0 24 24\"\n",
              "     width=\"24px\">\n",
              "    <g>\n",
              "        <path d=\"M19 3H5c-1.1 0-2 .9-2 2v14c0 1.1.9 2 2 2h14c1.1 0 2-.9 2-2V5c0-1.1-.9-2-2-2zM9 17H7v-7h2v7zm4 0h-2V7h2v10zm4 0h-2v-4h2v4z\"/>\n",
              "    </g>\n",
              "</svg>\n",
              "  </button>\n",
              "\n",
              "<style>\n",
              "  .colab-df-quickchart {\n",
              "      --bg-color: #E8F0FE;\n",
              "      --fill-color: #1967D2;\n",
              "      --hover-bg-color: #E2EBFA;\n",
              "      --hover-fill-color: #174EA6;\n",
              "      --disabled-fill-color: #AAA;\n",
              "      --disabled-bg-color: #DDD;\n",
              "  }\n",
              "\n",
              "  [theme=dark] .colab-df-quickchart {\n",
              "      --bg-color: #3B4455;\n",
              "      --fill-color: #D2E3FC;\n",
              "      --hover-bg-color: #434B5C;\n",
              "      --hover-fill-color: #FFFFFF;\n",
              "      --disabled-bg-color: #3B4455;\n",
              "      --disabled-fill-color: #666;\n",
              "  }\n",
              "\n",
              "  .colab-df-quickchart {\n",
              "    background-color: var(--bg-color);\n",
              "    border: none;\n",
              "    border-radius: 50%;\n",
              "    cursor: pointer;\n",
              "    display: none;\n",
              "    fill: var(--fill-color);\n",
              "    height: 32px;\n",
              "    padding: 0;\n",
              "    width: 32px;\n",
              "  }\n",
              "\n",
              "  .colab-df-quickchart:hover {\n",
              "    background-color: var(--hover-bg-color);\n",
              "    box-shadow: 0 1px 2px rgba(60, 64, 67, 0.3), 0 1px 3px 1px rgba(60, 64, 67, 0.15);\n",
              "    fill: var(--button-hover-fill-color);\n",
              "  }\n",
              "\n",
              "  .colab-df-quickchart-complete:disabled,\n",
              "  .colab-df-quickchart-complete:disabled:hover {\n",
              "    background-color: var(--disabled-bg-color);\n",
              "    fill: var(--disabled-fill-color);\n",
              "    box-shadow: none;\n",
              "  }\n",
              "\n",
              "  .colab-df-spinner {\n",
              "    border: 2px solid var(--fill-color);\n",
              "    border-color: transparent;\n",
              "    border-bottom-color: var(--fill-color);\n",
              "    animation:\n",
              "      spin 1s steps(1) infinite;\n",
              "  }\n",
              "\n",
              "  @keyframes spin {\n",
              "    0% {\n",
              "      border-color: transparent;\n",
              "      border-bottom-color: var(--fill-color);\n",
              "      border-left-color: var(--fill-color);\n",
              "    }\n",
              "    20% {\n",
              "      border-color: transparent;\n",
              "      border-left-color: var(--fill-color);\n",
              "      border-top-color: var(--fill-color);\n",
              "    }\n",
              "    30% {\n",
              "      border-color: transparent;\n",
              "      border-left-color: var(--fill-color);\n",
              "      border-top-color: var(--fill-color);\n",
              "      border-right-color: var(--fill-color);\n",
              "    }\n",
              "    40% {\n",
              "      border-color: transparent;\n",
              "      border-right-color: var(--fill-color);\n",
              "      border-top-color: var(--fill-color);\n",
              "    }\n",
              "    60% {\n",
              "      border-color: transparent;\n",
              "      border-right-color: var(--fill-color);\n",
              "    }\n",
              "    80% {\n",
              "      border-color: transparent;\n",
              "      border-right-color: var(--fill-color);\n",
              "      border-bottom-color: var(--fill-color);\n",
              "    }\n",
              "    90% {\n",
              "      border-color: transparent;\n",
              "      border-bottom-color: var(--fill-color);\n",
              "    }\n",
              "  }\n",
              "</style>\n",
              "\n",
              "  <script>\n",
              "    async function quickchart(key) {\n",
              "      const quickchartButtonEl =\n",
              "        document.querySelector('#' + key + ' button');\n",
              "      quickchartButtonEl.disabled = true;  // To prevent multiple clicks.\n",
              "      quickchartButtonEl.classList.add('colab-df-spinner');\n",
              "      try {\n",
              "        const charts = await google.colab.kernel.invokeFunction(\n",
              "            'suggestCharts', [key], {});\n",
              "      } catch (error) {\n",
              "        console.error('Error during call to suggestCharts:', error);\n",
              "      }\n",
              "      quickchartButtonEl.classList.remove('colab-df-spinner');\n",
              "      quickchartButtonEl.classList.add('colab-df-quickchart-complete');\n",
              "    }\n",
              "    (() => {\n",
              "      let quickchartButtonEl =\n",
              "        document.querySelector('#df-b7f5d232-efaa-4308-a8b2-934300d706a9 button');\n",
              "      quickchartButtonEl.style.display =\n",
              "        google.colab.kernel.accessAllowed ? 'block' : 'none';\n",
              "    })();\n",
              "  </script>\n",
              "</div>\n",
              "\n",
              "  <div id=\"id_95ef7bec-262b-4782-837e-328a59727c34\">\n",
              "    <style>\n",
              "      .colab-df-generate {\n",
              "        background-color: #E8F0FE;\n",
              "        border: none;\n",
              "        border-radius: 50%;\n",
              "        cursor: pointer;\n",
              "        display: none;\n",
              "        fill: #1967D2;\n",
              "        height: 32px;\n",
              "        padding: 0 0 0 0;\n",
              "        width: 32px;\n",
              "      }\n",
              "\n",
              "      .colab-df-generate:hover {\n",
              "        background-color: #E2EBFA;\n",
              "        box-shadow: 0px 1px 2px rgba(60, 64, 67, 0.3), 0px 1px 3px 1px rgba(60, 64, 67, 0.15);\n",
              "        fill: #174EA6;\n",
              "      }\n",
              "\n",
              "      [theme=dark] .colab-df-generate {\n",
              "        background-color: #3B4455;\n",
              "        fill: #D2E3FC;\n",
              "      }\n",
              "\n",
              "      [theme=dark] .colab-df-generate:hover {\n",
              "        background-color: #434B5C;\n",
              "        box-shadow: 0px 1px 3px 1px rgba(0, 0, 0, 0.15);\n",
              "        filter: drop-shadow(0px 1px 2px rgba(0, 0, 0, 0.3));\n",
              "        fill: #FFFFFF;\n",
              "      }\n",
              "    </style>\n",
              "    <button class=\"colab-df-generate\" onclick=\"generateWithVariable('data')\"\n",
              "            title=\"Generate code using this dataframe.\"\n",
              "            style=\"display:none;\">\n",
              "\n",
              "  <svg xmlns=\"http://www.w3.org/2000/svg\" height=\"24px\"viewBox=\"0 0 24 24\"\n",
              "       width=\"24px\">\n",
              "    <path d=\"M7,19H8.4L18.45,9,17,7.55,7,17.6ZM5,21V16.75L18.45,3.32a2,2,0,0,1,2.83,0l1.4,1.43a1.91,1.91,0,0,1,.58,1.4,1.91,1.91,0,0,1-.58,1.4L9.25,21ZM18.45,9,17,7.55Zm-12,3A5.31,5.31,0,0,0,4.9,8.1,5.31,5.31,0,0,0,1,6.5,5.31,5.31,0,0,0,4.9,4.9,5.31,5.31,0,0,0,6.5,1,5.31,5.31,0,0,0,8.1,4.9,5.31,5.31,0,0,0,12,6.5,5.46,5.46,0,0,0,6.5,12Z\"/>\n",
              "  </svg>\n",
              "    </button>\n",
              "    <script>\n",
              "      (() => {\n",
              "      const buttonEl =\n",
              "        document.querySelector('#id_95ef7bec-262b-4782-837e-328a59727c34 button.colab-df-generate');\n",
              "      buttonEl.style.display =\n",
              "        google.colab.kernel.accessAllowed ? 'block' : 'none';\n",
              "\n",
              "      buttonEl.onclick = () => {\n",
              "        google.colab.notebook.generateWithVariable('data');\n",
              "      }\n",
              "      })();\n",
              "    </script>\n",
              "  </div>\n",
              "\n",
              "    </div>\n",
              "  </div>\n"
            ],
            "application/vnd.google.colaboratory.intrinsic+json": {
              "type": "dataframe",
              "variable_name": "data",
              "summary": "{\n  \"name\": \"data\",\n  \"rows\": 4969,\n  \"fields\": [\n    {\n      \"column\": \"AI Tool Name\",\n      \"properties\": {\n        \"dtype\": \"string\",\n        \"num_unique_values\": 4969,\n        \"samples\": [\n          \"Chatfans\",\n          \"Review Rocket\",\n          \"Veed.Io\"\n        ],\n        \"semantic_type\": \"\",\n        \"description\": \"\"\n      }\n    },\n    {\n      \"column\": \"Description\",\n      \"properties\": {\n        \"dtype\": \"string\",\n        \"num_unique_values\": 4965,\n        \"samples\": [\n          \"Easily create hyper-personalized emails\",\n          \"Create perfect images instantly with Artssy AI.\",\n          \"Easy social media content creation.\"\n        ],\n        \"semantic_type\": \"\",\n        \"description\": \"\"\n      }\n    },\n    {\n      \"column\": \"Free/Paid/Other\",\n      \"properties\": {\n        \"dtype\": \"category\",\n        \"num_unique_values\": 19,\n        \"samples\": [\n          \"Free\",\n          \"Freemium | Free-Trial\",\n          \"FreeFreemium\"\n        ],\n        \"semantic_type\": \"\",\n        \"description\": \"\"\n      }\n    },\n    {\n      \"column\": \"Useable For\",\n      \"properties\": {\n        \"dtype\": \"category\",\n        \"num_unique_values\": 526,\n        \"samples\": [\n          \"startup tools     fun tools\",\n          \"finance     code assistant\",\n          \"d\"\n        ],\n        \"semantic_type\": \"\",\n        \"description\": \"\"\n      }\n    },\n    {\n      \"column\": \"Charges\",\n      \"properties\": {\n        \"dtype\": \"category\",\n        \"num_unique_values\": 557,\n        \"samples\": [\n          \"$7.99 \",\n          \"$ 32.5/mo\",\n          \"$30 \"\n        ],\n        \"semantic_type\": \"\",\n        \"description\": \"\"\n      }\n    },\n    {\n      \"column\": \"Review\",\n      \"properties\": {\n        \"dtype\": \"category\",\n        \"num_unique_values\": 17,\n        \"samples\": [\n          \"1\",\n          \"2\",\n          \"7\"\n        ],\n        \"semantic_type\": \"\",\n        \"description\": \"\"\n      }\n    },\n    {\n      \"column\": \"Tool Link\",\n      \"properties\": {\n        \"dtype\": \"string\",\n        \"num_unique_values\": 4959,\n        \"samples\": [\n          \"https://personagen.app?utm_source=futurepedia&utm_medium=marketplace&utm_campaign=futurepedia\",\n          \"https://show.intellinode.ai/?utm_source=futurepedia&utm_medium=marketplace&utm_campaign=futurepedia#?ref=theresanaiforthat\",\n          \"https://www.digimarkai.com/?utm_source=futurepedia&utm_medium=marketplace&utm_campaign=futurepedia\"\n        ],\n        \"semantic_type\": \"\",\n        \"description\": \"\"\n      }\n    },\n    {\n      \"column\": \"Major Category\",\n      \"properties\": {\n        \"dtype\": \"category\",\n        \"num_unique_values\": 8,\n        \"samples\": [\n          \"text\",\n          \"d\",\n          \"other\"\n        ],\n        \"semantic_type\": \"\",\n        \"description\": \"\"\n      }\n    },\n    {\n      \"column\": \"combined_features\",\n      \"properties\": {\n        \"dtype\": \"category\",\n        \"num_unique_values\": 526,\n        \"samples\": [\n          \"startup tools     fun tools business\",\n          \"finance     code assistant code\",\n          \"d d\"\n        ],\n        \"semantic_type\": \"\",\n        \"description\": \"\"\n      }\n    }\n  ]\n}"
            }
          },
          "metadata": {},
          "execution_count": 6
        }
      ]
    },
    {
      "cell_type": "code",
      "source": [
        "def preprocess_query(query):\n",
        "    stop_words = set(stopwords.words('english'))\n",
        "    tokens = word_tokenize(query.lower())\n",
        "    tokens = [word for word in tokens if word not in stop_words and word not in string.punctuation]\n",
        "    return ' '.join(tokens)"
      ],
      "metadata": {
        "id": "q-PaL6OJe_Zn"
      },
      "execution_count": null,
      "outputs": []
    },
    {
      "cell_type": "code",
      "source": [
        "user_query = \"I need a tool that can generate images.\"\n",
        "processed_query = preprocess_query(user_query)\n",
        "print(f\"Processed Query: {processed_query}\")"
      ],
      "metadata": {
        "colab": {
          "base_uri": "https://localhost:8080/"
        },
        "id": "LLByiK2efBJA",
        "outputId": "dda00042-3125-4b82-e3bd-789eb26e0a6c"
      },
      "execution_count": null,
      "outputs": [
        {
          "output_type": "stream",
          "name": "stdout",
          "text": [
            "Processed Query: need tool generate images\n"
          ]
        }
      ]
    },
    {
      "cell_type": "code",
      "source": [
        "tfidf_vectorizer = TfidfVectorizer()\n",
        "tfidf_matrix = tfidf_vectorizer.fit_transform(data['combined_features'])"
      ],
      "metadata": {
        "id": "1cEM17qAfcbV"
      },
      "execution_count": null,
      "outputs": []
    },
    {
      "cell_type": "code",
      "source": [
        "def expand_query(query):\n",
        "  words = query.split()\n",
        "  expanded_words = []\n",
        "  for word in words:\n",
        "    synonyms = wordnet.synsets(word)\n",
        "    expanded_words.extend(set([lemma.name() for syn in synonyms for lemma in syn.lemmas()]))\n",
        "  expanded_query = ' '.join(set(words + expanded_words))\n",
        "  return expanded_query"
      ],
      "metadata": {
        "id": "Qz4rZifyg7zo"
      },
      "execution_count": null,
      "outputs": []
    },
    {
      "cell_type": "code",
      "source": [
        "def recommend_ai_tools(user_query, top_n=5):\n",
        "  user_query_cleaned = clean_text(user_query)\n",
        "  expanded_query = expand_query(user_query_cleaned)\n",
        "  query_vector = tfidf_vectorizer.transform([expanded_query])\n",
        "  cosine_sim = cosine_similarity(query_vector, tfidf_matrix)\n",
        "  top_indices = cosine_sim[0].argsort()[-top_n:][::-1]\n",
        "  return data.iloc[top_indices]"
      ],
      "metadata": {
        "id": "kU0_qp2Kg-DH"
      },
      "execution_count": null,
      "outputs": []
    },
    {
      "cell_type": "code",
      "source": [
        "'''query_tfidf = tfidf_vectorizer.transform([processed_query])\n",
        "\n",
        "similarity_scores = cosine_similarity(query_tfidf, combined_features_tfidf)\n",
        "'''"
      ],
      "metadata": {
        "id": "lD7Ur-LNfhGr",
        "colab": {
          "base_uri": "https://localhost:8080/",
          "height": 35
        },
        "outputId": "c114a014-c4f2-4a1c-d4ab-192e31d76f0c"
      },
      "execution_count": null,
      "outputs": [
        {
          "output_type": "execute_result",
          "data": {
            "text/plain": [
              "'query_tfidf = tfidf_vectorizer.transform([processed_query])\\n\\nsimilarity_scores = cosine_similarity(query_tfidf, combined_features_tfidf)\\n'"
            ],
            "application/vnd.google.colaboratory.intrinsic+json": {
              "type": "string"
            }
          },
          "metadata": {},
          "execution_count": 12
        }
      ]
    },
    {
      "cell_type": "code",
      "source": [
        "'''top_indices = np.argsort(similarity_scores[0])[::-1][:5]\n",
        "top_tools = data.iloc[top_indices]\n",
        "'''"
      ],
      "metadata": {
        "id": "PKnCq5DpfjTS",
        "colab": {
          "base_uri": "https://localhost:8080/",
          "height": 35
        },
        "outputId": "e7b179f5-cdea-463b-81fa-2f116f3c183c"
      },
      "execution_count": null,
      "outputs": [
        {
          "output_type": "execute_result",
          "data": {
            "text/plain": [
              "'top_indices = np.argsort(similarity_scores[0])[::-1][:5]\\ntop_tools = data.iloc[top_indices]\\n'"
            ],
            "application/vnd.google.colaboratory.intrinsic+json": {
              "type": "string"
            }
          },
          "metadata": {},
          "execution_count": 13
        }
      ]
    },
    {
      "cell_type": "code",
      "source": [
        "recommendations = recommend_ai_tools(processed_query)"
      ],
      "metadata": {
        "id": "WDQPVdWQhHtz"
      },
      "execution_count": null,
      "outputs": []
    },
    {
      "cell_type": "code",
      "source": [
        "print(\"Top recommended tools:\")\n",
        "print(top_tools[['AI Tool Name', 'Description', 'Free/Paid/Other', 'Useable For', 'Major Category']])"
      ],
      "metadata": {
        "colab": {
          "base_uri": "https://localhost:8080/",
          "height": 176
        },
        "id": "UlIddu0TfsXO",
        "outputId": "16174df3-7c1f-4d65-9e5e-b0b4955a62fd"
      },
      "execution_count": null,
      "outputs": [
        {
          "output_type": "stream",
          "name": "stdout",
          "text": [
            "Top recommended tools:\n"
          ]
        },
        {
          "output_type": "error",
          "ename": "NameError",
          "evalue": "name 'top_tools' is not defined",
          "traceback": [
            "\u001b[0;31m---------------------------------------------------------------------------\u001b[0m",
            "\u001b[0;31mNameError\u001b[0m                                 Traceback (most recent call last)",
            "\u001b[0;32m<ipython-input-15-c0e8c069b4da>\u001b[0m in \u001b[0;36m<cell line: 0>\u001b[0;34m()\u001b[0m\n\u001b[1;32m      1\u001b[0m \u001b[0mprint\u001b[0m\u001b[0;34m(\u001b[0m\u001b[0;34m\"Top recommended tools:\"\u001b[0m\u001b[0;34m)\u001b[0m\u001b[0;34m\u001b[0m\u001b[0;34m\u001b[0m\u001b[0m\n\u001b[0;32m----> 2\u001b[0;31m \u001b[0mprint\u001b[0m\u001b[0;34m(\u001b[0m\u001b[0mtop_tools\u001b[0m\u001b[0;34m[\u001b[0m\u001b[0;34m[\u001b[0m\u001b[0;34m'AI Tool Name'\u001b[0m\u001b[0;34m,\u001b[0m \u001b[0;34m'Description'\u001b[0m\u001b[0;34m,\u001b[0m \u001b[0;34m'Free/Paid/Other'\u001b[0m\u001b[0;34m,\u001b[0m \u001b[0;34m'Useable For'\u001b[0m\u001b[0;34m,\u001b[0m \u001b[0;34m'Major Category'\u001b[0m\u001b[0;34m]\u001b[0m\u001b[0;34m]\u001b[0m\u001b[0;34m)\u001b[0m\u001b[0;34m\u001b[0m\u001b[0;34m\u001b[0m\u001b[0m\n\u001b[0m",
            "\u001b[0;31mNameError\u001b[0m: name 'top_tools' is not defined"
          ]
        }
      ]
    },
    {
      "cell_type": "code",
      "source": [
        "import pandas as pd\n",
        "import numpy as np\n",
        "from sklearn.feature_extraction.text import TfidfVectorizer\n",
        "from sklearn.metrics.pairwise import cosine_similarity\n",
        "from nltk.corpus import stopwords\n",
        "from nltk.tokenize import word_tokenize\n",
        "from nltk.corpus import wordnet\n",
        "import re\n",
        "import string\n",
        "import nltk\n",
        "\n",
        "nltk.download('stopwords')\n",
        "nltk.download('punkt')\n",
        "nltk.download('wordnet')\n",
        "\n",
        "# Load the dataset\n",
        "dataset_path = '/content/all_ai_tool.csv'  # Replace with your actual file path\n",
        "data = pd.read_csv(dataset_path)\n",
        "\n",
        "# Fill missing values in 'Useable For' and 'Major Category' with an empty string\n",
        "data['Useable For'] = data['Useable For'].fillna('')\n",
        "data['Major Category'] = data['Major Category'].fillna('')\n",
        "\n",
        "# Combine 'Useable For' and 'Major Category' into a single column for processing\n",
        "data['combined_features'] = data['Useable For'] + ' ' + data['Major Category']\n",
        "\n",
        "# Function to clean text\n",
        "def clean_text(text):\n",
        "    if isinstance(text, str):\n",
        "        text = re.sub(r'[^a-zA-Z\\s]', '', text)\n",
        "        text = text.lower().strip()\n",
        "        return text\n",
        "    else:\n",
        "        return ''\n",
        "\n",
        "data['combined_features'] = data['combined_features'].apply(clean_text)\n",
        "\n",
        "\n",
        "def preprocess_query(query):\n",
        "    stop_words = set(stopwords.words('english'))\n",
        "    tokens = word_tokenize(query.lower())\n",
        "    tokens = [word for word in tokens if word not in stop_words and word not in string.punctuation]\n",
        "    return ' '.join(tokens)\n",
        "\n",
        "\n",
        "def expand_query(query):\n",
        "    words = query.split()\n",
        "    expanded_words = []\n",
        "    for word in words:\n",
        "        synonyms = wordnet.synsets(word)\n",
        "        expanded_words.extend(set([lemma.name() for syn in synonyms for lemma in syn.lemmas()]))\n",
        "    expanded_query = ' '.join(set(words + expanded_words))\n",
        "    return expanded_query\n",
        "\n",
        "# Vectorize the text using TF-IDF\n",
        "tfidf_vectorizer = TfidfVectorizer()\n",
        "combined_features_tfidf = tfidf_vectorizer.fit_transform(data['combined_features'])\n",
        "\n",
        "\n",
        "def recommend_ai_tools(user_query, top_n=5):\n",
        "    user_query_cleaned = clean_text(user_query)\n",
        "    expanded_query = expand_query(user_query_cleaned)\n",
        "    print(\"Hello\")\n",
        "    print(expanded_query)\n",
        "    query_vector = tfidf_vectorizer.transform([expanded_query])\n",
        "    cosine_sim = cosine_similarity(query_vector, combined_features_tfidf)\n",
        "    top_indices = cosine_sim[0].argsort()[-top_n:][::-1]\n",
        "    return data.iloc[top_indices]\n",
        "\n",
        "# Example usage\n",
        "user_query = \"I need music generator and text generator\"\n",
        "processed_query = preprocess_query(user_query)\n",
        "recommendations = recommend_ai_tools(processed_query)\n",
        "\n",
        "# Display the recommended tools\n",
        "print(\"Top recommended tools:\")\n",
        "print(recommendations[['AI Tool Name', 'Free/Paid/Other', 'Useable For', 'Major Category']])"
      ],
      "metadata": {
        "colab": {
          "base_uri": "https://localhost:8080/"
        },
        "id": "PDJpMI7-i7pm",
        "outputId": "48d4b131-1155-455d-cd4d-00f2e0c28f60"
      },
      "execution_count": null,
      "outputs": [
        {
          "output_type": "stream",
          "name": "stdout",
          "text": [
            "Hello\n",
            "necessitate medicine require demand music want pauperization involve ask author text indigence call_for textbook need take euphony text_edition motive postulate pauperism generator penury source school_text schoolbook motivation textual_matter\n",
            "Top recommended tools:\n",
            "                 AI Tool Name        Free/Paid/Other  \\\n",
            "3283             Pollinations                   Free   \n",
            "3714             Rotor Videos                   Paid   \n",
            "3345                   Prodia               Freemium   \n",
            "2774  Moji Writing Assistant   Freemium | Free-Trial   \n",
            "4893                     Wzrd                   Paid   \n",
            "\n",
            "                                            Useable For Major Category  \n",
            "3283    / image generator    / music    / video gene...          audio  \n",
            "3714                       / music    / video generator          audio  \n",
            "3345              / image generator    / music    / art          audio  \n",
            "2774    / general writing    / image generator    / ...          audio  \n",
            "4893                                            / music          audio  \n"
          ]
        },
        {
          "output_type": "stream",
          "name": "stderr",
          "text": [
            "[nltk_data] Downloading package stopwords to /root/nltk_data...\n",
            "[nltk_data]   Package stopwords is already up-to-date!\n",
            "[nltk_data] Downloading package punkt to /root/nltk_data...\n",
            "[nltk_data]   Package punkt is already up-to-date!\n",
            "[nltk_data] Downloading package wordnet to /root/nltk_data...\n",
            "[nltk_data]   Package wordnet is already up-to-date!\n"
          ]
        }
      ]
    },
    {
      "cell_type": "code",
      "source": [
        "import pandas as pd\n",
        "import numpy as np\n",
        "from sklearn.feature_extraction.text import TfidfVectorizer\n",
        "from sklearn.metrics.pairwise import cosine_similarity\n",
        "from sklearn.model_selection import train_test_split\n",
        "from sklearn.metrics import accuracy_score, precision_score, recall_score\n",
        "from nltk.corpus import stopwords\n",
        "from nltk.tokenize import word_tokenize\n",
        "from nltk.corpus import wordnet\n",
        "import re\n",
        "import string\n",
        "import nltk\n",
        "import time\n",
        "\n",
        "nltk.download('stopwords')\n",
        "nltk.download('punkt')\n",
        "nltk.download('wordnet')\n",
        "\n",
        "# Load the dataset\n",
        "dataset_path = '/content/all_ai_tool.csv'  # Replace with your actual file path\n",
        "data = pd.read_csv(dataset_path)\n",
        "\n",
        "# Fill missing values in 'Useable For' and 'Major Category' with an empty string\n",
        "data['Useable For'] = data['Useable For'].fillna('')\n",
        "data['Major Category'] = data['Major Category'].fillna('')\n",
        "\n",
        "# Combine 'Useable For' and 'Major Category' into a single column for processing\n",
        "data['combined_features'] = data['Useable For'] + ' ' + data['Major Category']\n",
        "\n",
        "# Function to clean text\n",
        "def clean_text(text):\n",
        "    if isinstance(text, str):\n",
        "        text = re.sub(r'[^a-zA-Z\\s]', '', text)\n",
        "        text = text.lower().strip()\n",
        "        return text\n",
        "    else:\n",
        "        return ''\n",
        "\n",
        "data['combined_features'] = data['combined_features'].apply(clean_text)\n",
        "\n",
        "def preprocess_query(query):\n",
        "    stop_words = set(stopwords.words('english'))\n",
        "    tokens = word_tokenize(query.lower())\n",
        "    tokens = [word for word in tokens if word not in stop_words and word not in string.punctuation]\n",
        "    return ' '.join(tokens)\n",
        "\n",
        "def expand_query(query):\n",
        "    words = query.split()\n",
        "    expanded_words = []\n",
        "    for word in words:\n",
        "        synonyms = wordnet.synsets(word)\n",
        "        expanded_words.extend(set([lemma.name() for syn in synonyms for lemma in syn.lemmas()]))\n",
        "    expanded_query = ' '.join(set(words + expanded_words))\n",
        "    return expanded_query\n",
        "\n",
        "# Vectorize the text using TF-IDF\n",
        "tfidf_vectorizer = TfidfVectorizer()\n",
        "combined_features_tfidf = tfidf_vectorizer.fit_transform(data['combined_features'])\n",
        "\n",
        "def recommend_ai_tools(user_query, top_n=5):\n",
        "    user_query_cleaned = clean_text(user_query)\n",
        "    expanded_query = expand_query(user_query_cleaned)\n",
        "    query_vector = tfidf_vectorizer.transform([expanded_query])\n",
        "    cosine_sim = cosine_similarity(query_vector, combined_features_tfidf)\n",
        "    top_indices = cosine_sim[0].argsort()[-top_n:][::-1]\n",
        "    return data.iloc[top_indices]\n",
        "\n",
        "# Split the data into training and testing sets\n",
        "train_data, test_data = train_test_split(data, test_size=0.2, random_state=42)\n"
      ],
      "metadata": {
        "colab": {
          "base_uri": "https://localhost:8080/"
        },
        "id": "WI7fJfgX1F_d",
        "outputId": "348595fe-11f3-4d47-ce59-ca8202b865ae"
      },
      "execution_count": null,
      "outputs": [
        {
          "output_type": "stream",
          "name": "stderr",
          "text": [
            "[nltk_data] Downloading package stopwords to /root/nltk_data...\n",
            "[nltk_data]   Package stopwords is already up-to-date!\n",
            "[nltk_data] Downloading package punkt to /root/nltk_data...\n",
            "[nltk_data]   Unzipping tokenizers/punkt.zip.\n",
            "[nltk_data] Downloading package wordnet to /root/nltk_data...\n",
            "[nltk_data]   Package wordnet is already up-to-date!\n"
          ]
        }
      ]
    },
    {
      "cell_type": "code",
      "source": [
        "# Example usage\n",
        "user_query = \"i need help in video\"\n",
        "processed_query = preprocess_query(user_query)\n",
        "start_time = time.time()\n",
        "recommendations = recommend_ai_tools(processed_query)\n",
        "end_time = time.time()\n",
        "response_time = end_time - start_time\n",
        "print(f\"Response Time: {response_time:.4f} seconds\")\n",
        "\n",
        "\n",
        "# Display the recommended tools\n",
        "print(\"Top recommended tools:\")\n",
        "print(recommendations[['AI Tool Name', 'Free/Paid/Other', 'Useable For', 'Major Category']])\n",
        "\n",
        "# Evaluation function\n",
        "def evaluate_model(test_data, tfidf_vectorizer, combined_features_tfidf):\n",
        "    y_true = []\n",
        "    y_pred = []\n",
        "    for index, row in test_data.iterrows():\n",
        "        query = row['combined_features']\n",
        "        true_category = row['Major Category']\n",
        "        recommended_tools = recommend_ai_tools(query)\n",
        "        predicted_category = recommended_tools['Major Category'].iloc[0] if not recommended_tools.empty else None\n",
        "        y_true.append(true_category)\n",
        "        y_pred.append(predicted_category)\n",
        "    accuracy = accuracy_score(y_true, y_pred)\n",
        "    precision = precision_score(y_true, y_pred, average='weighted', zero_division=0)\n",
        "    recall = recall_score(y_true, y_pred, average='weighted', zero_division=0)\n",
        "    return accuracy, precision, recall\n",
        "\n",
        "# Calculate evaluation metrics\n",
        "accuracy, precision, recall = evaluate_model(test_data, tfidf_vectorizer, combined_features_tfidf)\n",
        "\n",
        "print(f\"Accuracy: {accuracy}\")\n",
        "print(f\"Precision: {precision}\")\n",
        "print(f\"Recall: {recall}\")"
      ],
      "metadata": {
        "colab": {
          "base_uri": "https://localhost:8080/"
        },
        "id": "IOoTvM88tlZj",
        "outputId": "cf46c27e-b7a7-4179-aeed-79ce18c0f1d9"
      },
      "execution_count": null,
      "outputs": [
        {
          "output_type": "stream",
          "name": "stdout",
          "text": [
            "Response Time: 0.0029 seconds\n",
            "Top recommended tools:\n",
            "       AI Tool Name      Free/Paid/Other  \\\n",
            "3447        Qlip.Ai           Free Trial   \n",
            "4642       Vimeo Ai                 Paid   \n",
            "1641    Flawless Ai  Contact for Pricing   \n",
            "2807          Movmi             Freemium   \n",
            "4028  Spikes Studio             Freemium   \n",
            "\n",
            "                                 Useable For Major Category  \n",
            "3447    / video editing    / video generator          video  \n",
            "4642    / video editing    / video generator          video  \n",
            "1641    / video editing    / video generator          video  \n",
            "2807    / video editing    / video generator          video  \n",
            "4028    / video editing    / video generator          video  \n",
            "Accuracy: 0.9798792756539235\n",
            "Precision: 0.9771018432045416\n",
            "Recall: 0.9798792756539235\n"
          ]
        }
      ]
    }
  ]
}